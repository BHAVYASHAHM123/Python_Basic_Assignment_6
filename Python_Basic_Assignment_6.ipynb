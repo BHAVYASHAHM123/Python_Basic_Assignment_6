{
  "nbformat": 4,
  "nbformat_minor": 0,
  "metadata": {
    "colab": {
      "name": "Python_Basic_Assignment_6.ipynb",
      "provenance": []
    },
    "kernelspec": {
      "name": "python3",
      "display_name": "Python 3"
    },
    "language_info": {
      "name": "python"
    }
  },
  "cells": [
    {
      "cell_type": "markdown",
      "source": [
        "Q1). What are escape characters, and how do you use them?\n",
        "\n",
        "Ans)  An escape character is a backslash \\ followed by the character you want to insert\""
      ],
      "metadata": {
        "id": "FLN9cTERf0yS"
      }
    },
    {
      "cell_type": "markdown",
      "source": [
        "Q2) What do the escape characters n and t stand for?\n",
        "\n",
        "Ans) \"\\t\" is a tab, \"\\n\" is a newline"
      ],
      "metadata": {
        "id": "sHPnPm6If0sD"
      }
    },
    {
      "cell_type": "markdown",
      "source": [
        "Q3). What is the way to include backslash characters in a string?\n",
        "\n",
        "Ans) \n",
        "The backslash is used to escape special characters in string literals"
      ],
      "metadata": {
        "id": "cdJJ2-U-f0pP"
      }
    },
    {
      "cell_type": "markdown",
      "source": [
        "Q4) The string \"Howl's Moving Castle\" is a correct value. Why isn't the single quote character in the word Howl's not escaped a problem?\n",
        "\n",
        "Ans) The single quote in Howl's is fine because you've used double quotes to mark the beginning and end of the string. "
      ],
      "metadata": {
        "id": "L3AfOZVwf0mx"
      }
    },
    {
      "cell_type": "markdown",
      "source": [
        "Q5) How do you write a string of newlines if you don't want to use the n character?\n",
        "\n",
        "Ans) \\n"
      ],
      "metadata": {
        "id": "cs96eDbtf0kG"
      }
    },
    {
      "cell_type": "markdown",
      "source": [
        "Q6). What are the values of the given expressions?\n",
        "\n",
        "\"Hello, world!\"[1]\n",
        "\"Hello, world!\"[0:5]\n",
        "\"Hello, world!\"[:5]\n",
        "\"Hello, world!\"[3:]"
      ],
      "metadata": {
        "id": "e_nRpHrsf0hc"
      }
    },
    {
      "cell_type": "code",
      "source": [
        "\"Hello, world!\"[1]"
      ],
      "metadata": {
        "colab": {
          "base_uri": "https://localhost:8080/",
          "height": 35
        },
        "id": "nb8dHpMCh1dF",
        "outputId": "244a007c-280d-4a7e-bd33-532c4bea2749"
      },
      "execution_count": 1,
      "outputs": [
        {
          "output_type": "execute_result",
          "data": {
            "application/vnd.google.colaboratory.intrinsic+json": {
              "type": "string"
            },
            "text/plain": [
              "'e'"
            ]
          },
          "metadata": {},
          "execution_count": 1
        }
      ]
    },
    {
      "cell_type": "code",
      "source": [
        "\"Hello, world!\"[0:5]"
      ],
      "metadata": {
        "colab": {
          "base_uri": "https://localhost:8080/",
          "height": 35
        },
        "id": "944UoyGzh-bJ",
        "outputId": "45ca9afe-feb8-49ed-f358-306d2959774d"
      },
      "execution_count": 2,
      "outputs": [
        {
          "output_type": "execute_result",
          "data": {
            "application/vnd.google.colaboratory.intrinsic+json": {
              "type": "string"
            },
            "text/plain": [
              "'Hello'"
            ]
          },
          "metadata": {},
          "execution_count": 2
        }
      ]
    },
    {
      "cell_type": "code",
      "source": [
        "\"Hello, world!\"[:5]\n"
      ],
      "metadata": {
        "colab": {
          "base_uri": "https://localhost:8080/",
          "height": 35
        },
        "id": "PjbayUpjh-Ma",
        "outputId": "1a12f3dc-80b7-45bd-bbed-5f6848a9c9cf"
      },
      "execution_count": 3,
      "outputs": [
        {
          "output_type": "execute_result",
          "data": {
            "application/vnd.google.colaboratory.intrinsic+json": {
              "type": "string"
            },
            "text/plain": [
              "'Hello'"
            ]
          },
          "metadata": {},
          "execution_count": 3
        }
      ]
    },
    {
      "cell_type": "code",
      "source": [
        "\"Hello, world!\"[3:]"
      ],
      "metadata": {
        "colab": {
          "base_uri": "https://localhost:8080/",
          "height": 35
        },
        "id": "meKWS_iJh944",
        "outputId": "258ff90f-c848-470a-84b6-00e91b70d59f"
      },
      "execution_count": 4,
      "outputs": [
        {
          "output_type": "execute_result",
          "data": {
            "application/vnd.google.colaboratory.intrinsic+json": {
              "type": "string"
            },
            "text/plain": [
              "'lo, world!'"
            ]
          },
          "metadata": {},
          "execution_count": 4
        }
      ]
    },
    {
      "cell_type": "markdown",
      "source": [
        "Q7). What are the values of the following expressions?\n",
        "'Hello'.upper()\n",
        "'Hello'.upper().isupper()\n",
        "'Hello'.upper().lower()"
      ],
      "metadata": {
        "id": "jX3OlDczf0ep"
      }
    },
    {
      "cell_type": "code",
      "source": [
        "'Hello'.upper()"
      ],
      "metadata": {
        "colab": {
          "base_uri": "https://localhost:8080/",
          "height": 35
        },
        "id": "HgNIJAKwjp1-",
        "outputId": "8dcdfd3b-c171-48c8-cc62-d5218675a080"
      },
      "execution_count": 5,
      "outputs": [
        {
          "output_type": "execute_result",
          "data": {
            "application/vnd.google.colaboratory.intrinsic+json": {
              "type": "string"
            },
            "text/plain": [
              "'HELLO'"
            ]
          },
          "metadata": {},
          "execution_count": 5
        }
      ]
    },
    {
      "cell_type": "code",
      "source": [
        "'Hello'.upper().isupper()"
      ],
      "metadata": {
        "colab": {
          "base_uri": "https://localhost:8080/"
        },
        "id": "uhv5z_HojrAL",
        "outputId": "c035aca1-cd75-4a88-a8d8-1d3311a1457c"
      },
      "execution_count": 6,
      "outputs": [
        {
          "output_type": "execute_result",
          "data": {
            "text/plain": [
              "True"
            ]
          },
          "metadata": {},
          "execution_count": 6
        }
      ]
    },
    {
      "cell_type": "code",
      "source": [
        "'Hello'.upper().lower()"
      ],
      "metadata": {
        "colab": {
          "base_uri": "https://localhost:8080/",
          "height": 35
        },
        "id": "GoleiALAjqof",
        "outputId": "a101e12b-8d14-420c-d815-3526c035b66a"
      },
      "execution_count": 7,
      "outputs": [
        {
          "output_type": "execute_result",
          "data": {
            "application/vnd.google.colaboratory.intrinsic+json": {
              "type": "string"
            },
            "text/plain": [
              "'hello'"
            ]
          },
          "metadata": {},
          "execution_count": 7
        }
      ]
    },
    {
      "cell_type": "markdown",
      "source": [
        "Q9)What are the methods for right-justifying, left-justifying, and centering a string?\n",
        "\n",
        "Ans) The rjust() method will right align the string\n",
        "The ljust() method will left align the string\n",
        "The cjust() method will center align the string"
      ],
      "metadata": {
        "id": "La4JSaLqf0bz"
      }
    },
    {
      "cell_type": "markdown",
      "source": [
        "Q10). What is the best way to remove whitespace characters from the start or end?\n",
        "\n",
        "Ans) Trim() removes all whitespace from the beginning and end of a string."
      ],
      "metadata": {
        "id": "Hb61GtY2f0ZB"
      }
    },
    {
      "cell_type": "code",
      "source": [
        ""
      ],
      "metadata": {
        "id": "YDp9vUeQjbhJ"
      },
      "execution_count": null,
      "outputs": []
    }
  ]
}